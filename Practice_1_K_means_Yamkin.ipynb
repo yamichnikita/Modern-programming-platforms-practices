{
  "nbformat": 4,
  "nbformat_minor": 0,
  "metadata": {
    "colab": {
      "provenance": []
    },
    "kernelspec": {
      "name": "python3",
      "display_name": "Python 3"
    },
    "language_info": {
      "name": "python"
    }
  },
  "cells": [
    {
      "cell_type": "code",
      "execution_count": null,
      "metadata": {
        "id": "tNynUq_p9-EO"
      },
      "outputs": [],
      "source": [
        "from keras.datasets import mnist\n",
        "from matplotlib import pyplot as plt \n",
        "import math, random\n",
        "import numpy as np\n",
        "from numba import njit\n",
        "# from sklearn.metrics import mean_squared_error, mean_absolute_error"
      ]
    },
    {
      "cell_type": "code",
      "source": [
        "(X_train, y_train), (X_test, y_test) = mnist.load_data()\n",
        "X_train = np.array(X_train[:1000], dtype = 'float64')\n",
        "y_train = y_train[:1000]\n",
        "\n",
        "X_test = np.array(X_test[:300], dtype = 'float64')\n",
        "y_test = y_test[:300]"
      ],
      "metadata": {
        "id": "ycDDkxyL-M81"
      },
      "execution_count": null,
      "outputs": []
    },
    {
      "cell_type": "code",
      "source": [
        "%%time\n",
        "counter = 0\n",
        "Euclidean_sum = 0  # сумма квадратов разностей координат\n",
        "# Euclidean_min - хранит минимальное значение расстояния\n",
        "index_min_dist = 0 # хранит индекс наиболее похожей картинки\n",
        "for q in range(1000):\n",
        "  digit_index = random.randint(0,299) # случайный индекс картинки из тестовой выборки\n",
        "  Euclidean_sum = 0  # сумма квадратов разностей координат\n",
        "  for i in range(len(X_train)):         # выбираю картинку в массиве\n",
        "    for j in range(len(X_train[i])):     # выбираю строку в картинке\n",
        "      for k in range(len(X_train[i][j])):  # выбираю пиксель в строке\n",
        "        Euclidean_sum += (X_train[i][j][k] - X_test[digit_index][j][k])**2\n",
        "    Euclidean_dist = math.sqrt(Euclidean_sum)\n",
        "    Euclidean_sum = 0  # обнуляем значение переменной\n",
        "    if i == 0:\n",
        "      Euclidean_min = Euclidean_dist          # присваиваем переменной Euclidean_min начальное значение\n",
        "    elif Euclidean_dist < Euclidean_min:\n",
        "      Euclidean_min = Euclidean_dist          # сохраняем значение минимального расстояния\n",
        "      index_min_dist = i                     # сохраняем индекс картинки\n",
        "  if y_train[index_min_dist] == y_test[digit_index]:\n",
        "    counter += 1\n",
        "\n",
        "Accuracy = (counter / 1000) * 100\n",
        "print('Accuracy:', Accuracy)"
      ],
      "metadata": {
        "colab": {
          "base_uri": "https://localhost:8080/"
        },
        "id": "4Q915zPclZoC",
        "outputId": "4537221e-0779-49ca-9694-4c8f5257da04"
      },
      "execution_count": null,
      "outputs": [
        {
          "output_type": "stream",
          "name": "stdout",
          "text": [
            "Accuracy: 82.89999999999999\n",
            "CPU times: user 18min 43s, sys: 2.32 s, total: 18min 45s\n",
            "Wall time: 18min 48s\n"
          ]
        }
      ]
    },
    {
      "cell_type": "code",
      "source": [
        "fig, ax = plt.subplots(1,2)\n",
        "ax[0].imshow(X_test[digit_index], cmap = 'gray')\n",
        "ax[0].set(title = 'Исходное число')\n",
        "ax[1].imshow(X_train[index_min_dist], cmap = 'gray')\n",
        "ax[1].set(title = 'Найденное ближайшее число')\n",
        "plt.show()"
      ],
      "metadata": {
        "colab": {
          "base_uri": "https://localhost:8080/",
          "height": 216
        },
        "id": "RHaiORFZ3d7s",
        "outputId": "beea42ba-8ceb-4701-95e2-7e3b5d4e59ec"
      },
      "execution_count": null,
      "outputs": [
        {
          "output_type": "display_data",
          "data": {
            "text/plain": [
              "<Figure size 432x288 with 2 Axes>"
            ],
            "image/png": "[encoded data removed]"
          },
          "metadata": {
            "needs_background": "light"
          }
        }
      ]
    },
    {
      "cell_type": "code",
      "source": [
        "### Numpy\n",
        "\n",
        "%%time\n",
        "counter = 0\n",
        "# Euclidean_min - хранит минимальное значение расстояния\n",
        "index_min_dist = 0 # хранит индекс наиболее похожей картинки\n",
        "for q in range(1000):\n",
        "  Euclidean_sum = 0  # сумма квадратов разностей координат\n",
        "  digit_index = random.randint(0,299) # случайный индекс картинки из тестовой выборки\n",
        "  for i in range(len(X_train)):\n",
        "    square = np.square(X_train[i] - X_test[digit_index]) \n",
        "    Euclidean_sum = np.sum(square)\n",
        "    Euclidean_dist = np.sqrt(Euclidean_sum)\n",
        "    if i == 0:\n",
        "      Euclidean_min = Euclidean_dist          # присваиваем переменной Euclidean_min начальное значение\n",
        "    elif Euclidean_dist < Euclidean_min:\n",
        "      Euclidean_min = Euclidean_dist          # сохраняем значение минимального расстояния\n",
        "      index_min_dist = i                     # сохраняем индекс картинки\n",
        "  if y_train[index_min_dist] == y_test[digit_index]:\n",
        "      counter += 1\n",
        "Accuracy = (counter / 1000) * 100\n",
        "print('Accuracy:', Accuracy)"
      ],
      "metadata": {
        "colab": {
          "base_uri": "https://localhost:8080/"
        },
        "id": "5eNhHMkRIdnP",
        "outputId": "5c4f7b8d-cc48-4df0-adee-266f71019200"
      },
      "execution_count": null,
      "outputs": [
        {
          "output_type": "stream",
          "name": "stdout",
          "text": [
            "Accuracy: 82.89999999999999\n",
            "CPU times: user 10.7 s, sys: 87.5 ms, total: 10.8 s\n",
            "Wall time: 10.7 s\n"
          ]
        }
      ]
    },
    {
      "cell_type": "code",
      "source": [
        "fig, ax = plt.subplots(1,2)\n",
        "ax[0].imshow(X_test[digit_index], cmap = 'gray')\n",
        "ax[0].set(title = 'Исходное число')\n",
        "ax[1].imshow(X_train[index_min_dist], cmap = 'gray')\n",
        "ax[1].set(title = 'Найденное ближайшее число')\n",
        "plt.show()"
      ],
      "metadata": {
        "colab": {
          "base_uri": "https://localhost:8080/",
          "height": 216
        },
        "id": "LY8DGpwkvLyF",
        "outputId": "d4fdbc43-014a-496a-88cd-dfe1799bcbc5"
      },
      "execution_count": null,
      "outputs": [
        {
          "output_type": "display_data",
          "data": {
            "text/plain": [
              "<Figure size 432x288 with 2 Axes>"
            ],
            "image/png": "[encoded data removed]"
          },
          "metadata": {
            "needs_background": "light"
          }
        }
      ]
    },
    {
      "cell_type": "code",
      "source": [
        "### Numba + чистый Python\n",
        "%%time\n",
        "# digit_index = random.randint(0,299) # случайный индекс картинки из тестовой выборки\n",
        "# Euclidean_sum = 0  # сумма квадратов разностей координат\n",
        "# Euclidean_min - хранит минимальное значение расстояния\n",
        "# index_min_dist = 0 # хранит индекс наиболее похожей картинки\n",
        "\n",
        "@njit()\n",
        "def Euclidean_distance(X1, X2, Euclidean_sum = 0):\n",
        "  digit_index = random.randint(0,299) # случайный индекс картинки из тестовой выборки\n",
        "  index_min_dist = 0 # хранит индекс наиболее похожей картинки\n",
        "  for i in range(len(X1)):\n",
        "    for j in range(len(X1[i])):\n",
        "      for k in range(len(X1[i][j])):\n",
        "        Euclidean_sum += (X1[i][j][k] - X2[digit_index][j][k])**2\n",
        "    Euclidean_dist = math.sqrt(Euclidean_sum)\n",
        "    Euclidean_sum = 0                         # обнуляем значение переменной\n",
        "    if i == 0:\n",
        "      Euclidean_min = Euclidean_dist          # присваиваем переменной Euclidean_min начальное значение\n",
        "    elif Euclidean_dist < Euclidean_min:\n",
        "      Euclidean_min = Euclidean_dist          # сохраняем значение минимального расстояния\n",
        "      index_min_dist = i                      # сохраняем индекс картинки\n",
        "  return([Euclidean_min, index_min_dist, digit_index, y_test[digit_index], y_train[index_min_dist]])"
      ],
      "metadata": {
        "colab": {
          "base_uri": "https://localhost:8080/"
        },
        "id": "yViyzwVrSKlV",
        "outputId": "318f8772-b7a2-4e0f-80e5-68cb806979fc"
      },
      "execution_count": null,
      "outputs": [
        {
          "output_type": "stream",
          "name": "stdout",
          "text": [
            "CPU times: user 256 µs, sys: 0 ns, total: 256 µs\n",
            "Wall time: 261 µs\n"
          ]
        }
      ]
    },
    {
      "cell_type": "code",
      "source": [
        "%%time\n",
        "counter = 0\n",
        "for q in range(1000):\n",
        "  m = Euclidean_distance(X_train, X_test)\n",
        "  if m[3] == m[4]:\n",
        "    counter += 1\n",
        "Accuracy = (counter / 1000) * 100\n",
        "print('Accuracy:', Accuracy)"
      ],
      "metadata": {
        "id": "sDxosLgWT3L-",
        "colab": {
          "base_uri": "https://localhost:8080/"
        },
        "outputId": "b05612cb-26ae-4acf-b924-a888880c0b86"
      },
      "execution_count": null,
      "outputs": [
        {
          "output_type": "stream",
          "name": "stdout",
          "text": [
            "Accuracy: 83.3\n",
            "CPU times: user 1.21 s, sys: 6.01 ms, total: 1.22 s\n",
            "Wall time: 1.22 s\n"
          ]
        }
      ]
    },
    {
      "cell_type": "code",
      "source": [
        "fig, ax = plt.subplots(1,2)\n",
        "ax[0].imshow(X_test[digit_index], cmap = 'gray')\n",
        "ax[0].set(title = 'Исходное число')\n",
        "ax[1].imshow(X_train[index_min_dist], cmap = 'gray')\n",
        "ax[1].set(title = 'Найденное ближайшее число')\n",
        "plt.show()"
      ],
      "metadata": {
        "colab": {
          "base_uri": "https://localhost:8080/",
          "height": 216
        },
        "id": "Z6hdPilm7PO5",
        "outputId": "ee8dd0ff-b90e-43b8-99b8-63374c3bbc79"
      },
      "execution_count": null,
      "outputs": [
        {
          "output_type": "display_data",
          "data": {
            "text/plain": [
              "<Figure size 432x288 with 2 Axes>"
            ],
            "image/png": "[encoded data removed]"
          },
          "metadata": {
            "needs_background": "light"
          }
        }
      ]
    },
    {
      "cell_type": "code",
      "source": [
        "### Numba + Numpy\n",
        "%%time\n",
        "\n",
        "# Euclidean_sum = 0  # сумма квадратов разностей координат\n",
        "# Euclidean_min - хранит минимальное значение расстояния\n",
        "# index_min_dist = 0 # хранит индекс наиболее похожей картинки\n",
        "\n",
        "@njit()\n",
        "def Euclidean_distance_1(X1, X2):\n",
        "  index_min_dist = 0 # хранит индекс наиболее похожей картинки\n",
        "  digit_index = random.randint(0,299) # случайный индекс картинки из тестовой выборки\n",
        "  for i in range(len(X1)):\n",
        "    square = np.square(X1[i] - X2[digit_index]) \n",
        "    Euclidean_sum = np.sum(square)\n",
        "    Euclidean_dist = np.sqrt(Euclidean_sum)\n",
        "    if i == 0:\n",
        "      Euclidean_min = Euclidean_dist          # присваиваем переменной Euclidean_min начальное значение\n",
        "    elif Euclidean_dist < Euclidean_min:\n",
        "      Euclidean_min = Euclidean_dist          # сохраняем значение минимального расстояния\n",
        "      index_min_dist = i                      # сохраняем индекс картинки\n",
        "  return([Euclidean_min, index_min_dist, digit_index, y_test[digit_index], y_train[index_min_dist]])"
      ],
      "metadata": {
        "colab": {
          "base_uri": "https://localhost:8080/"
        },
        "id": "mj2yUuYeVNYf",
        "outputId": "af2a8510-e4da-4390-a555-80cf05dca637"
      },
      "execution_count": null,
      "outputs": [
        {
          "output_type": "stream",
          "name": "stdout",
          "text": [
            "CPU times: user 243 µs, sys: 0 ns, total: 243 µs\n",
            "Wall time: 247 µs\n"
          ]
        }
      ]
    },
    {
      "cell_type": "code",
      "source": [
        "%%time\n",
        "counter = 0\n",
        "for q in range(1000):\n",
        "  m = Euclidean_distance_1(X_train, X_test)\n",
        "  if m[3] == m[4]:\n",
        "    counter += 1\n",
        "Accuracy = (counter / 1000) * 100\n",
        "print('Accuracy:', Accuracy)"
      ],
      "metadata": {
        "colab": {
          "base_uri": "https://localhost:8080/"
        },
        "id": "UjOfRm8zVq8R",
        "outputId": "aa4bd17d-eebd-45c7-d16d-4c32d538f0d3"
      },
      "execution_count": null,
      "outputs": [
        {
          "output_type": "stream",
          "name": "stdout",
          "text": [
            "Accuracy: 82.39999999999999\n",
            "CPU times: user 1.73 s, sys: 9 ms, total: 1.73 s\n",
            "Wall time: 1.74 s\n"
          ]
        }
      ]
    },
    {
      "cell_type": "code",
      "source": [
        "fig, ax = plt.subplots(1,2)\n",
        "ax[0].imshow(X_test[digit_index], cmap = 'gray')\n",
        "ax[0].set(title = 'Исходное число')\n",
        "ax[1].imshow(X_train[index_min_dist], cmap = 'gray')\n",
        "ax[1].set(title = 'Найденное ближайшее число')\n",
        "plt.show()"
      ],
      "metadata": {
        "colab": {
          "base_uri": "https://localhost:8080/",
          "height": 216
        },
        "id": "u660LezeWHGX",
        "outputId": "3e6d5e3b-85e4-4dcc-fc10-c814862e44a7"
      },
      "execution_count": null,
      "outputs": [
        {
          "output_type": "display_data",
          "data": {
            "text/plain": [
              "<Figure size 432x288 with 2 Axes>"
            ],
            "image/png": "[encoded data removed]"
          },
          "metadata": {
            "needs_background": "light"
          }
        }
      ]
    }
  ]
}